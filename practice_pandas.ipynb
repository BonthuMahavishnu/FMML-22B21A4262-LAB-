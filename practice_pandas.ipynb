{
  "nbformat": 4,
  "nbformat_minor": 0,
  "metadata": {
    "colab": {
      "provenance": [],
      "authorship_tag": "ABX9TyNATl9jmwSZgHHF9zr+FNnH",
      "include_colab_link": true
    },
    "kernelspec": {
      "name": "python3",
      "display_name": "Python 3"
    },
    "language_info": {
      "name": "python"
    }
  },
  "cells": [
    {
      "cell_type": "markdown",
      "metadata": {
        "id": "view-in-github",
        "colab_type": "text"
      },
      "source": [
        "<a href=\"https://colab.research.google.com/github/BonthuMahavishnu/FMML-ASSIGNMENTS_AND_LABS/blob/main/practice_pandas.ipynb\" target=\"_parent\"><img src=\"https://colab.research.google.com/assets/colab-badge.svg\" alt=\"Open In Colab\"/></a>"
      ]
    },
    {
      "cell_type": "code",
      "source": [
        "!pip install pandas                               # in  other platform we can't install any library  use this method\n",
        "                                                  #    \"!\"\n",
        "!pip install numpy"
      ],
      "metadata": {
        "colab": {
          "base_uri": "https://localhost:8080/"
        },
        "id": "ieXcFioF9WXN",
        "outputId": "4eb825d6-8ab1-4600-ec84-677258130d8c"
      },
      "execution_count": null,
      "outputs": [
        {
          "output_type": "stream",
          "name": "stdout",
          "text": [
            "Requirement already satisfied: pandas in /usr/local/lib/python3.10/dist-packages (2.0.3)\n",
            "Requirement already satisfied: python-dateutil>=2.8.2 in /usr/local/lib/python3.10/dist-packages (from pandas) (2.8.2)\n",
            "Requirement already satisfied: pytz>=2020.1 in /usr/local/lib/python3.10/dist-packages (from pandas) (2023.4)\n",
            "Requirement already satisfied: tzdata>=2022.1 in /usr/local/lib/python3.10/dist-packages (from pandas) (2024.1)\n",
            "Requirement already satisfied: numpy>=1.21.0 in /usr/local/lib/python3.10/dist-packages (from pandas) (1.25.2)\n",
            "Requirement already satisfied: six>=1.5 in /usr/local/lib/python3.10/dist-packages (from python-dateutil>=2.8.2->pandas) (1.16.0)\n",
            "Requirement already satisfied: numpy in /usr/local/lib/python3.10/dist-packages (1.25.2)\n"
          ]
        }
      ]
    },
    {
      "cell_type": "code",
      "execution_count": null,
      "metadata": {
        "colab": {
          "base_uri": "https://localhost:8080/"
        },
        "id": "cncxvcfy8_Vz",
        "outputId": "86f28aad-9712-457a-e9e9-7d1256ba426c"
      },
      "outputs": [
        {
          "output_type": "stream",
          "name": "stdout",
          "text": [
            "0    2\n",
            "1    3\n",
            "2    4\n",
            "3    5\n",
            "4    6\n",
            "5    8\n",
            "dtype: int64\n"
          ]
        }
      ],
      "source": [
        "import pandas as pd                                  # importing method\n",
        "import numpy as np                                                 # series method: one dimension\n",
        "\n",
        "\n",
        "d=pd.Series([2,3,4,5,6,8])\n",
        "print(d)"
      ]
    },
    {
      "cell_type": "code",
      "source": [
        "Data={\"ABHI\":[\"HAI\",\"HOW WAS YOUR DAY\",\"NICE\"], \"SITA\":[\"HELLO\",\"PERFECT\",\"YEAH\"]}\n",
        "\n",
        "\n",
        "Tej=pd.DataFrame(Data)                                        # DATAFRAME means  more than one dimension similar to multi dimension\n",
        "\n",
        "print(Tej)\n",
        "\n"
      ],
      "metadata": {
        "colab": {
          "base_uri": "https://localhost:8080/"
        },
        "id": "z6D8P_vd993Y",
        "outputId": "a3ec8cf6-f277-4783-c3ef-0973dc4c1a9f"
      },
      "execution_count": null,
      "outputs": [
        {
          "output_type": "stream",
          "name": "stdout",
          "text": [
            "               ABHI     SITA\n",
            "0               HAI    HELLO\n",
            "1  HOW WAS YOUR DAY  PERFECT\n",
            "2              NICE     YEAH\n"
          ]
        }
      ]
    },
    {
      "cell_type": "code",
      "source": [
        "Data={\"Hai\":[11,12,13,14,15,16],\"Hello\":[21,22,23,24,25,26]}\n",
        "\n",
        "Vis=pd.DataFrame(Data)\n",
        "print(Vis)"
      ],
      "metadata": {
        "colab": {
          "base_uri": "https://localhost:8080/"
        },
        "id": "wmz9fnnu_bnq",
        "outputId": "e40bc071-52ef-449e-9140-1e815e9c9551"
      },
      "execution_count": null,
      "outputs": [
        {
          "output_type": "stream",
          "name": "stdout",
          "text": [
            "   Hai  Hello\n",
            "0   11     21\n",
            "1   12     22\n",
            "2   13     23\n",
            "3   14     24\n",
            "4   15     25\n",
            "5   16     26\n"
          ]
        }
      ]
    },
    {
      "cell_type": "code",
      "source": [
        "# Basic data operations\n",
        "                                                                           #viewing data\n",
        "\n",
        "V=Vis.head()\n",
        "print(V)                                       #   accessing first five rows"
      ],
      "metadata": {
        "colab": {
          "base_uri": "https://localhost:8080/"
        },
        "id": "59FH4yssAg8A",
        "outputId": "967f27b1-a3b5-47ff-ddde-a039306f0582"
      },
      "execution_count": null,
      "outputs": [
        {
          "output_type": "stream",
          "name": "stdout",
          "text": [
            "   Hai  Hello\n",
            "0   11     21\n",
            "1   12     22\n",
            "2   13     23\n",
            "3   14     24\n",
            "4   15     25\n"
          ]
        }
      ]
    },
    {
      "cell_type": "code",
      "source": [
        "V=Vis.tail()                                    # accessing  last five rows (hint:- not reverse)\n",
        "print(V)"
      ],
      "metadata": {
        "colab": {
          "base_uri": "https://localhost:8080/"
        },
        "id": "zucg93puA7Qv",
        "outputId": "5d83d447-e4ec-4e58-dbec-2c6155ab7505"
      },
      "execution_count": null,
      "outputs": [
        {
          "output_type": "stream",
          "name": "stdout",
          "text": [
            "   Hai  Hello\n",
            "1   12     22\n",
            "2   13     23\n",
            "3   14     24\n",
            "4   15     25\n",
            "5   16     26\n"
          ]
        }
      ]
    },
    {
      "cell_type": "code",
      "source": [
        "V=Vis.columns                                          #accessing columns\n",
        "print(V)"
      ],
      "metadata": {
        "colab": {
          "base_uri": "https://localhost:8080/"
        },
        "id": "cdvX-yJoBPXL",
        "outputId": "4e140285-17d6-4bf5-ce78-32c7b902030d"
      },
      "execution_count": null,
      "outputs": [
        {
          "output_type": "stream",
          "name": "stdout",
          "text": [
            "Index(['Hai', 'Hello'], dtype='object')\n"
          ]
        }
      ]
    },
    {
      "cell_type": "code",
      "source": [
        "V=Vis.shape\n",
        "print(V)\n",
        "\n",
        "   #so it is combination of rows and columns"
      ],
      "metadata": {
        "colab": {
          "base_uri": "https://localhost:8080/"
        },
        "id": "OCypu6_5Bt-D",
        "outputId": "532686e7-1ee1-43b4-cb22-d7a06576d8da"
      },
      "execution_count": null,
      "outputs": [
        {
          "output_type": "stream",
          "name": "stdout",
          "text": [
            "(6, 2)\n"
          ]
        }
      ]
    },
    {
      "cell_type": "code",
      "source": [
        "V=Vis.info()                                 # it tells about  null,non-null values\n",
        "print(V)\n",
        "\n",
        "F=Tej.info()\n",
        "print(F)"
      ],
      "metadata": {
        "colab": {
          "base_uri": "https://localhost:8080/"
        },
        "id": "tpulW56ZCJ9a",
        "outputId": "1f74bda1-587a-4be9-9b4b-1ff351517823"
      },
      "execution_count": null,
      "outputs": [
        {
          "output_type": "stream",
          "name": "stdout",
          "text": [
            "<class 'pandas.core.frame.DataFrame'>\n",
            "RangeIndex: 6 entries, 0 to 5\n",
            "Data columns (total 2 columns):\n",
            " #   Column  Non-Null Count  Dtype\n",
            "---  ------  --------------  -----\n",
            " 0   Hai     6 non-null      int64\n",
            " 1   Hello   6 non-null      int64\n",
            "dtypes: int64(2)\n",
            "memory usage: 224.0 bytes\n",
            "None\n",
            "<class 'pandas.core.frame.DataFrame'>\n",
            "RangeIndex: 3 entries, 0 to 2\n",
            "Data columns (total 2 columns):\n",
            " #   Column  Non-Null Count  Dtype \n",
            "---  ------  --------------  ----- \n",
            " 0   ABHI    3 non-null      object\n",
            " 1   SITA    3 non-null      object\n",
            "dtypes: object(2)\n",
            "memory usage: 176.0+ bytes\n",
            "None\n"
          ]
        }
      ]
    },
    {
      "cell_type": "code",
      "source": [
        "V=Vis.describe()                           #it tells  about  overall view\n",
        "print(V)\n",
        "\n",
        "v=Tej.describe()\n",
        "print(v)"
      ],
      "metadata": {
        "colab": {
          "base_uri": "https://localhost:8080/"
        },
        "id": "LsshJFbIDBf2",
        "outputId": "8fa48030-a94d-44e0-e6d4-f6cd859aa1f5"
      },
      "execution_count": null,
      "outputs": [
        {
          "output_type": "stream",
          "name": "stdout",
          "text": [
            "             Hai      Hello\n",
            "count   6.000000   6.000000\n",
            "mean   13.500000  23.500000\n",
            "std     1.870829   1.870829\n",
            "min    11.000000  21.000000\n",
            "25%    12.250000  22.250000\n",
            "50%    13.500000  23.500000\n",
            "75%    14.750000  24.750000\n",
            "max    16.000000  26.000000\n",
            "       ABHI   SITA\n",
            "count     3      3\n",
            "unique    3      3\n",
            "top     HAI  HELLO\n",
            "freq      1      1\n"
          ]
        }
      ]
    },
    {
      "cell_type": "code",
      "source": [
        "# selecting data\n",
        "Yam={\n",
        "    \"Rollno\": [4215, 4217, 4262, 4220, 4235, 4245, 4222, 4264],\n",
        "    \"Names\": [\"YAMINI\", \"TEAJA\", \"Vishnu\", \"YASHODAR\", \"PRADEEP\", \"TARUN\", \"MADAVA\", \"hemanth\"],\n",
        "    \"Jvd\":[\"paid\",\"notpaid\",\"paid\",\"paid\",\"notpaid\",\"paid\",\"NOtpaid\",\"\"],\n",
        "    \"Marks\":[40,56,47,48,49,50,52,70]\n",
        "}\n",
        "\n",
        "data = pd.DataFrame(Yam)\n",
        "\n",
        "print(data)\n",
        "\n",
        "print(data[\"Rollno\"])               # it tells about single column\n"
      ],
      "metadata": {
        "colab": {
          "base_uri": "https://localhost:8080/"
        },
        "id": "e57TRJ2XEQxV",
        "outputId": "33055eae-3b3c-42a7-c8ec-b3a58ef7279e"
      },
      "execution_count": null,
      "outputs": [
        {
          "output_type": "stream",
          "name": "stdout",
          "text": [
            "   Rollno     Names      Jvd  Marks\n",
            "0    4215    YAMINI     paid     40\n",
            "1    4217     TEAJA  notpaid     56\n",
            "2    4262    Vishnu     paid     47\n",
            "3    4220  YASHODAR     paid     48\n",
            "4    4235   PRADEEP  notpaid     49\n",
            "5    4245     TARUN     paid     50\n",
            "6    4222    MADAVA  NOtpaid     52\n",
            "7    4264   hemanth              70\n",
            "0    4215\n",
            "1    4217\n",
            "2    4262\n",
            "3    4220\n",
            "4    4235\n",
            "5    4245\n",
            "6    4222\n",
            "7    4264\n",
            "Name: Rollno, dtype: int64\n"
          ]
        }
      ]
    },
    {
      "cell_type": "code",
      "source": [
        "print(data[[\"Jvd\",\"Marks\"]])                              #accessing multi columns"
      ],
      "metadata": {
        "colab": {
          "base_uri": "https://localhost:8080/"
        },
        "id": "7eHMFdGSGvlk",
        "outputId": "831712c3-7d1d-4bf0-9f7d-7ede0c15ce6d"
      },
      "execution_count": null,
      "outputs": [
        {
          "output_type": "stream",
          "name": "stdout",
          "text": [
            "       Jvd  Marks\n",
            "0     paid     40\n",
            "1  notpaid     56\n",
            "2     paid     47\n",
            "3     paid     48\n",
            "4  notpaid     49\n",
            "5     paid     50\n",
            "6  NOtpaid     52\n",
            "7              70\n"
          ]
        }
      ]
    },
    {
      "cell_type": "code",
      "source": [
        "print(data.loc[2])                       #  index value  using this type\n",
        "\n",
        "print(data.iloc[1])                          # iloc means  position based method"
      ],
      "metadata": {
        "colab": {
          "base_uri": "https://localhost:8080/"
        },
        "id": "SsTewV5aJwpj",
        "outputId": "aa67e342-dd14-4cbd-8196-406f6c6ce780"
      },
      "execution_count": null,
      "outputs": [
        {
          "output_type": "stream",
          "name": "stdout",
          "text": [
            "Rollno      4262\n",
            "Names     Vishnu\n",
            "Jvd         paid\n",
            "Marks         47\n",
            "Name: 2, dtype: object\n",
            "Rollno       4217\n",
            "Names       TEAJA\n",
            "Jvd       notpaid\n",
            "Marks          56\n",
            "Name: 1, dtype: object\n"
          ]
        }
      ]
    },
    {
      "cell_type": "code",
      "source": [
        "print(data[data[\"Marks\"]>=50])                   # meaning;-    searching for the inside data (hint:-double )"
      ],
      "metadata": {
        "colab": {
          "base_uri": "https://localhost:8080/"
        },
        "id": "vpj6MhvpKkRj",
        "outputId": "b974c55a-7418-4159-b609-7baaed5801c5"
      },
      "execution_count": null,
      "outputs": [
        {
          "output_type": "stream",
          "name": "stdout",
          "text": [
            "   Rollno    Names      Jvd  Marks\n",
            "1    4217    TEAJA  notpaid     56\n",
            "5    4245    TARUN     paid     50\n",
            "6    4222   MADAVA  NOtpaid     52\n",
            "7    4264  hemanth              70\n"
          ]
        }
      ]
    }
  ]
}