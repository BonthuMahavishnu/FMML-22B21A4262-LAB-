{
  "nbformat": 4,
  "nbformat_minor": 0,
  "metadata": {
    "colab": {
      "provenance": [],
      "include_colab_link": true
    },
    "kernelspec": {
      "name": "python3",
      "display_name": "Python 3"
    },
    "language_info": {
      "name": "python"
    }
  },
  "cells": [
    {
      "cell_type": "markdown",
      "metadata": {
        "id": "view-in-github",
        "colab_type": "text"
      },
      "source": [
        "<a href=\"https://colab.research.google.com/github/BonthuMahavishnu/FMML-22B21A4262-LAB-/blob/main/Module_01_Lab_02_MLPractice.ipynb\" target=\"_parent\"><img src=\"https://colab.research.google.com/assets/colab-badge.svg\" alt=\"Open In Colab\"/></a>"
      ]
    },
    {
      "cell_type": "markdown",
      "metadata": {
        "id": "3Eu9VZbF01eq"
      },
      "source": [
        "# Machine learning terms and metrics\n",
        "\n",
        "FMML Module 1, Lab 2<br>\n",
        "\n",
        "\n",
        " In this lab, we will show a part of the ML pipeline by extracting features, training and testing"
      ]
    },
    {
      "cell_type": "code",
      "metadata": {
        "id": "8qBvyEem0vLi"
      },
      "source": [
        "import matplotlib.pyplot as plt\n",
        "import numpy as np\n",
        "from sklearn import datasets\n",
        "# set randomseed\n",
        "rng = np.random.default_rng(seed=42)"
      ],
      "execution_count": 16,
      "outputs": []
    },
    {
      "cell_type": "markdown",
      "metadata": {
        "id": "u3t59g5s1HfC"
      },
      "source": [
        "In this lab, we will use the California Housing dataset. There are 20640 samples, each with 8 attributes like income of the block, age of the houses per district etc. The task is to predict the cost of the houses per district.\n",
        "\n",
        "Let us download and examine the dataset."
      ]
    },
    {
      "cell_type": "code",
      "metadata": {
        "id": "8LpqjN991GGJ",
        "colab": {
          "base_uri": "https://localhost:8080/"
        },
        "outputId": "8bf23451-6a92-4fcc-a042-f6346412a42d"
      },
      "source": [
        " dataset =  datasets.fetch_california_housing()\n",
        " # print(dataset.DESCR)  # uncomment this if you want to know more about this dataset\n",
        " # print(dataset.keys())  # if you want to know what else is there in this dataset\n",
        " dataset.target = dataset.target.astype(np.int) # so that we can classify\n",
        " print(dataset.data.shape)\n",
        " print(dataset.target.shape)"
      ],
      "execution_count": 17,
      "outputs": [
        {
          "output_type": "stream",
          "name": "stdout",
          "text": [
            "(20640, 8)\n",
            "(20640,)\n"
          ]
        },
        {
          "output_type": "stream",
          "name": "stderr",
          "text": [
            "<ipython-input-17-60ae2e9a125e>:4: DeprecationWarning: `np.int` is a deprecated alias for the builtin `int`. To silence this warning, use `int` by itself. Doing this will not modify any behavior and is safe. When replacing `np.int`, you may wish to use e.g. `np.int64` or `np.int32` to specify the precision. If you wish to review your current use, check the release note link for additional information.\n",
            "Deprecated in NumPy 1.20; for more details and guidance: https://numpy.org/devdocs/release/1.20.0-notes.html#deprecations\n",
            "  dataset.target = dataset.target.astype(np.int) # so that we can classify\n"
          ]
        }
      ]
    },
    {
      "cell_type": "markdown",
      "metadata": {
        "id": "iNx4174W5xRg"
      },
      "source": [
        "Here is a function for calculating the 1-nearest neighbours"
      ]
    },
    {
      "cell_type": "code",
      "metadata": {
        "id": "07zpydQj1hIQ"
      },
      "source": [
        "def NN1(traindata, trainlabel, query):\n",
        "  diff  = traindata - query  # find the difference between features. Numpy automatically takes care of the size here\n",
        "  sq = diff*diff # square the differences\n",
        "  dist = sq.sum(1) # add up the squares\n",
        "  label = trainlabel[np.argmin(dist)] # our predicted label is the label of the training data which has the least distance from the query\n",
        "  return label\n",
        "\n",
        "def NN(traindata, trainlabel, testdata):\n",
        "  # we will run nearest neighbour for each sample in the test data\n",
        "  # and collect the predicted classes in an array using list comprehension\n",
        "  predlabel = np.array([NN1(traindata, trainlabel, i) for i in testdata])\n",
        "  return predlabel"
      ],
      "execution_count": 18,
      "outputs": []
    },
    {
      "cell_type": "markdown",
      "metadata": {
        "id": "03JktkfIGaje"
      },
      "source": [
        "We will also define a 'random classifier', which randomly allots labels to each sample"
      ]
    },
    {
      "cell_type": "code",
      "metadata": {
        "id": "fogWAtjyGhAH"
      },
      "source": [
        "def RandomClassifier(traindata, trainlabel, testdata):\n",
        "  # in reality, we don't need these arguments\n",
        "\n",
        "  classes = np.unique(trainlabel)\n",
        "  rints = rng.integers(low=0, high=len(classes), size=len(testdata))\n",
        "  predlabel = classes[rints]\n",
        "  return predlabel"
      ],
      "execution_count": 19,
      "outputs": []
    },
    {
      "cell_type": "markdown",
      "metadata": {
        "id": "1Hjf1KHs7fU5"
      },
      "source": [
        "Let us define a metric 'Accuracy' to see how good our learning algorithm is. Accuracy is the ratio of the number of correctly classified samples to the total number of samples. The higher the accuracy, the better the algorithm."
      ]
    },
    {
      "cell_type": "code",
      "metadata": {
        "id": "ouuCqWU07bz-"
      },
      "source": [
        "def Accuracy(gtlabel, predlabel):\n",
        "  assert len(gtlabel)==len(predlabel), \"Length of the groundtruth labels and predicted labels should be the same\"\n",
        "  correct = (gtlabel==predlabel).sum() # count the number of times the groundtruth label is equal to the predicted label.\n",
        "  return correct/len(gtlabel)"
      ],
      "execution_count": 20,
      "outputs": []
    },
    {
      "cell_type": "markdown",
      "metadata": {
        "id": "4vJFwBFa9Klw"
      },
      "source": [
        "Let us make a function to split the dataset with the desired probability."
      ]
    },
    {
      "cell_type": "code",
      "metadata": {
        "id": "Ko0VzpSM2Tdi"
      },
      "source": [
        "def split(data, label, percent):\n",
        "  # generate a random number for each sample\n",
        "  rnd = rng.random(len(label))\n",
        "  split1 = rnd<percent\n",
        "  split2 = rnd>=percent\n",
        "  split1data = data[split1,:]\n",
        "  split1label = label[split1]\n",
        "  split2data = data[split2,:]\n",
        "  split2label = label[split2]\n",
        "  return split1data, split1label, split2data, split2label"
      ],
      "execution_count": 21,
      "outputs": []
    },
    {
      "cell_type": "markdown",
      "metadata": {
        "id": "AcK3LEAJ_LGC"
      },
      "source": [
        "We will reserve 20% of our dataset as the test set. We will not change this portion throughout our experiments"
      ]
    },
    {
      "cell_type": "code",
      "metadata": {
        "id": "bBZkHBLJ1iU-",
        "colab": {
          "base_uri": "https://localhost:8080/"
        },
        "outputId": "d240aa6c-7345-438b-fcbf-254b38a41911"
      },
      "source": [
        "testdata, testlabel, alltraindata, alltrainlabel = split(dataset.data, dataset.target, 20/100)\n",
        "print('Number of test samples = ', len(testlabel))\n",
        "print('Number of other samples = ', len(alltrainlabel))\n",
        "print('Percent of test data = ', len(testlabel)*100/len(dataset.target),'%')"
      ],
      "execution_count": 22,
      "outputs": [
        {
          "output_type": "stream",
          "name": "stdout",
          "text": [
            "Number of test samples =  4144\n",
            "Number of other samples =  16496\n",
            "Percent of test data =  20.07751937984496 %\n"
          ]
        }
      ]
    },
    {
      "cell_type": "markdown",
      "metadata": {
        "id": "a6Ss0Z6IAGNV"
      },
      "source": [
        "## Experiments with splits\n",
        "\n",
        "Let us reserve some of our train data as a validation set"
      ]
    },
    {
      "cell_type": "code",
      "metadata": {
        "id": "WFew2iry_7W7"
      },
      "source": [
        "traindata, trainlabel, valdata, vallabel = split(alltraindata, alltrainlabel, 75/100)"
      ],
      "execution_count": 23,
      "outputs": []
    },
    {
      "cell_type": "markdown",
      "metadata": {
        "id": "60hiu4clFN1i"
      },
      "source": [
        "What is the accuracy of our classifiers on the train dataset?"
      ]
    },
    {
      "cell_type": "code",
      "metadata": {
        "id": "DBlZDTHUFTZx",
        "colab": {
          "base_uri": "https://localhost:8080/"
        },
        "outputId": "b2012cb7-7938-4640-da86-2c9273fec592"
      },
      "source": [
        "trainpred = NN(traindata, trainlabel, traindata)\n",
        "trainAccuracy = Accuracy(trainlabel, trainpred)\n",
        "print(\"Train accuracy using nearest neighbour is \", trainAccuracy)\n",
        "\n",
        "trainpred = RandomClassifier(traindata, trainlabel, traindata)\n",
        "trainAccuracy = Accuracy(trainlabel, trainpred)\n",
        "print(\"Train accuracy using random classifier is \", trainAccuracy)"
      ],
      "execution_count": 24,
      "outputs": [
        {
          "output_type": "stream",
          "name": "stdout",
          "text": [
            "Train accuracy using nearest neighbour is  1.0\n",
            "Train accuracy using random classifier is  0.164375808538163\n"
          ]
        }
      ]
    },
    {
      "cell_type": "markdown",
      "metadata": {
        "id": "7h08-9gJDtSy"
      },
      "source": [
        "For nearest neighbour, the train accuracy is always 1. The accuracy of the random classifier is close to 1/(number of classes) which is 0.1666 in our case.\n",
        "\n",
        "Let us predict the labels for our validation set and get the accuracy"
      ]
    },
    {
      "cell_type": "code",
      "metadata": {
        "id": "4h7bXoW_2H3v",
        "colab": {
          "base_uri": "https://localhost:8080/"
        },
        "outputId": "dc2b0c31-08b1-497b-a98a-a356d27be381"
      },
      "source": [
        "valpred = NN(traindata, trainlabel, valdata)\n",
        "valAccuracy = Accuracy(vallabel, valpred)\n",
        "print(\"Validation accuracy using nearest neighbour is \", valAccuracy)\n",
        "\n",
        "valpred = RandomClassifier(traindata, trainlabel, valdata)\n",
        "valAccuracy = Accuracy(vallabel, valpred)\n",
        "print(\"Validation accuracy using random classifier is \", valAccuracy)"
      ],
      "execution_count": 25,
      "outputs": [
        {
          "output_type": "stream",
          "name": "stdout",
          "text": [
            "Validation accuracy using nearest neighbour is  0.34108527131782945\n",
            "Validation accuracy using random classifier is  0.1688468992248062\n"
          ]
        }
      ]
    },
    {
      "cell_type": "markdown",
      "metadata": {
        "id": "py9bLguFEjfg"
      },
      "source": [
        "Validation accuracy of nearest neighbour is considerably less than its train accuracy while the validation accuracy of random classifier is the same. However, the validation accuracy of nearest neighbour is twice that of the random classifier.\n",
        "\n",
        "Now let us try another random split and check the validation accuracy"
      ]
    },
    {
      "cell_type": "code",
      "metadata": {
        "id": "ujm3cyYzEntE",
        "colab": {
          "base_uri": "https://localhost:8080/"
        },
        "outputId": "101d6fa2-c42a-4257-827f-8a9ad5af13f6"
      },
      "source": [
        "traindata, trainlabel, valdata, vallabel = split(alltraindata, alltrainlabel, 75/100)\n",
        "valpred = NN(traindata, trainlabel, valdata)\n",
        "valAccuracy = Accuracy(vallabel, valpred)\n",
        "print(\"Validation accuracy of nearest neighbour is \", valAccuracy)"
      ],
      "execution_count": 26,
      "outputs": [
        {
          "output_type": "stream",
          "name": "stdout",
          "text": [
            "Validation accuracy of nearest neighbour is  0.34048257372654156\n"
          ]
        }
      ]
    },
    {
      "cell_type": "markdown",
      "metadata": {
        "id": "oSOx7U83EKie"
      },
      "source": [
        "You can run the above cell multiple times to try with different random splits.\n",
        "We notice that the accuracy is different for each run, but close together.\n",
        "\n",
        "Now let us compare it with the accuracy we get on the test dataset."
      ]
    },
    {
      "cell_type": "code",
      "metadata": {
        "id": "PNEZ5ToYBEDW",
        "colab": {
          "base_uri": "https://localhost:8080/"
        },
        "outputId": "7ed292a6-c888-48e2-f668-eb4a6522f6a9"
      },
      "source": [
        "testpred = NN(alltraindata, alltrainlabel, testdata)\n",
        "testAccuracy = Accuracy(testlabel, testpred)\n",
        "print('Test accuracy is ', testAccuracy)"
      ],
      "execution_count": 27,
      "outputs": [
        {
          "output_type": "stream",
          "name": "stdout",
          "text": [
            "Test accuracy is  0.34917953667953666\n"
          ]
        }
      ]
    },
    {
      "cell_type": "markdown",
      "metadata": {
        "id": "w3dGD531K3gH"
      },
      "source": [
        "### Try it out for yourself and answer:\n",
        "1. How is the accuracy of the validation set affected if we increase the percentage of validation set? What happens when we reduce it?\n",
        "2. How does the size of the train and validation set affect how well we can predict the accuracy on the test set using the validation set?\n",
        "3. What do you think is a good percentage to reserve for the validation set so that thest two factors are balanced?\n",
        "\n",
        "Answer for both nearest neighbour and random classifier. You can note down the values for your experiments and plot a graph using  <a href=https://matplotlib.org/stable/gallery/lines_bars_and_markers/step_demo.html#sphx-glr-gallery-lines-bars-and-markers-step-demo-py>plt.plot<href>. Check also for extreme values for splits, like 99.9% or 0.1%"
      ]
    },
    {
      "cell_type": "code",
      "source": [
        "import numpy as np\n",
        "\n",
        "import matplotlib.pyplot as plt\n",
        "from sklearn.model_selection import train_test_split\n",
        "from sklearn.neighbors import KNeighborsClassifier\n",
        "from sklearn.dummy import DummyClassifier\n",
        "\n",
        "\n",
        "X, y = np.random.rand(1000, 5), np.random.choice([0, 1], size=1000)\n",
        "\n",
        "\n",
        "validation_percentages = [0.1, 0.2, 0.3, 0.4, 0.5]\n",
        "\n",
        "knn_accuracies = []\n",
        "random_accuracies = []\n",
        "for val_percentage in validation_percentages:\n",
        "\n",
        "    X_train, X_val, y_train, y_val = train_test_split(X, y, test_size=val_percentage, random_state=42)\n",
        "\n",
        "    knn_classifier = KNeighborsClassifier(n_neighbors=3)\n",
        "    knn_classifier.fit(X_train, y_train)\n",
        "\n",
        "\n",
        "    random_classifier = DummyClassifier(strategy=\"uniform\")\n",
        "    random_classifier.fit(X_train, y_train)\n",
        "\n",
        "\n",
        "    knn_val_accuracy = knn_classifier.score(X_val, y_val)\n",
        "    random_val_accuracy = random_classifier.score(X_val, y_val)\n",
        "\n",
        "    knn_accuracies.append(knn_val_accuracy)\n",
        "    random_accuracies.append(random_val_accuracy)\n",
        "\n",
        "# Plot the results\n",
        "plt.figure(figsize=(10, 6))\n",
        "plt.plot(validation_percentages, knn_accuracies, label=\"K-NN Accuracy\")\n",
        "plt.plot(validation_percentages, random_accuracies, label=\"Random Classifier Accuracy\")\n",
        "plt.xlabel(\"Validation Set Percentage\")\n",
        "plt.ylabel(\"Validation Accuracy\")\n",
        "plt.title(\"Effect of Validation Set Percentage on Accuracy\")\n",
        "plt.legend()\n",
        "plt.grid(True)\n",
        "plt.show()"
      ],
      "metadata": {
        "colab": {
          "base_uri": "https://localhost:8080/",
          "height": 564
        },
        "id": "YzfFmkEmrH2Q",
        "outputId": "0ddfce95-9963-4f26-b62b-b5560f8d00f0"
      },
      "execution_count": 28,
      "outputs": [
        {
          "output_type": "display_data",
          "data": {
            "text/plain": [
              "<Figure size 1000x600 with 1 Axes>"
            ],
            "image/png": "[encoded data removed]"
          },
          "metadata": {}
        }
      ]
    },
    {
      "cell_type": "markdown",
      "metadata": {
        "id": "PnYvkAZLQY7h"
      },
      "source": [
        "## Multiple Splits\n",
        "\n",
        "One way to get more accurate estimates for the test accuracy is by using <b>crossvalidation</b>. Here, we will try a simple version, where we do multiple train/val splits and take the average of validation accuracies as the test accuracy estimation. Here is a function for doing this. Note that this function will take a long time to execute."
      ]
    },
    {
      "cell_type": "code",
      "metadata": {
        "id": "E4nGCUQXBTzo"
      },
      "source": [
        "# you can use this function for random classifier also\n",
        "def AverageAccuracy(alldata, alllabel, splitpercent, iterations, classifier=NN):\n",
        "  accuracy = 0\n",
        "  for ii in range(iterations):\n",
        "    traindata, trainlabel, valdata, vallabel = split(alldata, alllabel, splitpercent)\n",
        "    valpred = classifier(traindata, trainlabel, valdata)\n",
        "    accuracy += Accuracy(vallabel, valpred)\n",
        "  return accuracy/iterations # average of all accuracies"
      ],
      "execution_count": 29,
      "outputs": []
    },
    {
      "cell_type": "code",
      "metadata": {
        "id": "H3qtNar7Bbik",
        "colab": {
          "base_uri": "https://localhost:8080/"
        },
        "outputId": "7bac7eb6-c072-4dbb-fb3e-f7f65234a1af"
      },
      "source": [
        "print('Average validation accuracy is ', AverageAccuracy(alltraindata, alltrainlabel, 75/100, 10, classifier=NN))\n",
        "testpred = NN(alltraindata, alltrainlabel, testdata)\n",
        "print('test accuracy is ',Accuracy(testlabel, testpred) )"
      ],
      "execution_count": 30,
      "outputs": [
        {
          "output_type": "stream",
          "name": "stdout",
          "text": [
            "Average validation accuracy is  0.33584635395170215\n",
            "test accuracy is  0.34917953667953666\n"
          ]
        }
      ]
    },
    {
      "cell_type": "markdown",
      "metadata": {
        "id": "33GIn4x5VH-d"
      },
      "source": [
        "This is a very simple way of doing cross-validation. There are many well-known algorithms for cross-validation, like k-fold cross-validation, leave-one-out etc. This will be covered in detail in a later module. For more information about cross-validation, check <a href=https://en.wikipedia.org/wiki/Cross-validation_(statistics)>Cross-validatioin (Wikipedia)</a>\n",
        "\n",
        "### Questions\n",
        "1. Does averaging the validation accuracy across multiple splits give more consistent results?\n",
        "2. Does it give more accurate estimate of test accuracy?\n",
        "3. What is the effect of the number of iterations on the estimate? Do we get a better estimate with higher iterations?\n",
        "4. Consider the results you got for the previous questions. Can we deal with a very small train dataset or validation dataset by increasing the iterations?\n"
      ]
    },
    {
      "cell_type": "markdown",
      "source": [
        "#**1.Does averaging the validation accuracy across multiple splits give more consistent results?**\n",
        "\n",
        "Averaging the validation accuracy across multiple splits of your dataset can indeed give more consistent and reliable results compared to relying on a single split. This practice is often referred to as \"cross-validation,\" and it helps assess the generalization performance of a machine learning model more effectively. Here's why it's beneficial:\n",
        "\n",
        "#1.Reduced Variance:\n",
        "\n",
        " When you train and validate a model on a single data split (e.g., using a fixed train-validation/test split), your results may be highly sensitive to the specific data points in that split. Averaging results across multiple splits helps reduce this variance and provides a more stable estimate of the model's performance.\n",
        "\n",
        "#2.Better Generalization:\n",
        "\n",
        " By repeatedly splitting your data into training and validation sets, you ensure that your model is evaluated on different subsets of the data. This helps you gauge how well your model generalizes to unseen data, which is a crucial aspect of model assessment.\n",
        "\n",
        "#3. Improved Hyperparameter Tuning:\n",
        "\n",
        "Cross-validation is often used for hyperparameter tuning. By averaging results from multiple splits, you can make more informed decisions about which hyperparameters work best across different data subsets, leading to better model performance.\n",
        "\n",
        "Common cross-validation techniques include k-fold cross-validation and stratified k-fold cross-validation, where the dataset is divided into k subsets (folds), and the model is trained and evaluated k times, with each fold serving as the validation set exactly once.\n",
        "\n",
        "However, it's important to note that cross-validation can be computationally expensive, especially for large datasets or complex models. Additionally, it may not be suitable for all types of data or projects. In some cases, a single train-validation-test split may be sufficient, especially when dealing with limited data or when computational resources are constrained. Nevertheless, for most machine learning tasks, cross-validation is a valuable technique to assess and improve model performance while providing more consistent results."
      ],
      "metadata": {
        "id": "qRFMnoA6qGKn"
      }
    },
    {
      "cell_type": "markdown",
      "source": [
        "#2.**Does it give more accurate estimate of test accuracy?**\n",
        "\n",
        "**Cross-validation, when done properly, can provide a more accurate estimate of how well your machine learning model is likely to perform on unseen data compared to a single train-validation-test split. However, it's important to clarify that cross-validation estimates the model's performance on validation data, not on the true, unseen test data.**\n",
        "\n",
        "##**Here's how cross-validation helps provide a more accurate estimate of the model's performance:**\n",
        "\n",
        "1. **Reduced Bias:**\n",
        "\n",
        " A single train-validation-test split can introduce bias into your model evaluation because the specific random split might not be representative of the overall dataset. Cross-validation reduces this bias by repeatedly training and evaluating the model on different subsets of the data.\n",
        "\n",
        "\n",
        "2. ***Better Utilization of Data:***\n",
        "\n",
        "Cross-validation allows you to use your entire dataset for both training and validation. In a typical k-fold cross-validation, each data point is used for validation exactly once, ensuring that all data is effectively utilized in assessing model performance.\n",
        "\n",
        "3. ***Robustness:***\n",
        "\n",
        "Cross-validation helps in detecting overfitting. If your model performs exceptionally well on one random validation split but poorly on another, it suggests that it might not generalize well to unseen data, which is a valuable insight for model selection and hyperparameter tuning.\n",
        "\n",
        "However, it's crucial to remember that while cross-validation provides a more accurate estimate of how well your model is likely to perform on validation data, it still doesn't directly estimate the model's performance on truly unseen data (i.e., the test data). Therefore, after model selection and hyperparameter tuning using cross-validation, you should assess your final model's performance on a separate, held-out test dataset to get an accurate estimate of its generalization performance.\n",
        "\n",
        "In summary, cross-validation improves the estimate of how well your model will perform on validation data, but it doesn't replace the need for a separate test dataset to assess the model's performance on truly unseen data."
      ],
      "metadata": {
        "id": "Cbs_pPC4qt3M"
      }
    },
    {
      "cell_type": "markdown",
      "source": [
        "#3.**What is the effect of the number of iterations on the estimate? Do we get a better estimate with higher iterations?**\n",
        "\n",
        "In the context of cross-validation for estimating model performance, the number of iterations (or folds) can impact the reliability of the estimate, but it's not necessarily the case that a higher number of iterations always leads to a better estimate. The relationship between the number of iterations and the quality of the estimate is more nuanced and depends on various factors:\n",
        "\n",
        "1. ***Bias-Variance Trade-off:***\n",
        "\n",
        " Increasing the number of iterations typically reduces the variance of the estimate but might introduce bias. With a higher number of folds, each fold's validation set is smaller, which can lead to more variability in the estimates. However, with a lower number of folds, the estimate may be more biased because it's based on a smaller portion of the data.\n",
        "\n",
        "2. ***Computational Cost:***\n",
        "\n",
        " Performing cross-validation with a large number of iterations can be computationally expensive, especially if the training process is time-consuming. In practical applications, you need to balance the computational cost with the benefit of a more precise estimate.\n",
        "\n",
        "3. ***Sample Size:***\n",
        "\n",
        "If you have a small dataset, using a large number of folds can result in very small validation sets, which may lead to unstable estimates. In such cases, it's often recommended to use a smaller number of folds (e.g., 5 or 10) to ensure each fold contains a reasonable number of samples.\n",
        "\n",
        "4. ***Data Characteristics:***\n",
        "\n",
        " The relationship between the number of iterations and the quality of the estimate can also depend on the nature of your data and the problem you're solving. Some datasets may benefit from a larger number of iterations, while others may not.\n",
        "\n",
        "In practice, a common choice for the number of iterations is 5-fold or 10-fold cross-validation. These values strike a balance between reducing variance and maintaining a reasonable computational cost. If you have a very large dataset, you might consider using fewer folds, and if your dataset is very small, leave-one-out cross-validation (where each data point serves as a separate fold) could be an option.\n",
        "\n",
        "In summary, the choice of the number of iterations in cross-validation is a trade-off between variance and bias, computational cost, and the characteristics of your data. There's no one-size-fits-all answer, and it's often necessary to experiment with different fold numbers to determine the best approach for your specific machine learning task."
      ],
      "metadata": {
        "id": "_wLrgfb9q0Wq"
      }
    },
    {
      "cell_type": "markdown",
      "source": [
        "#**4.Consider the results you got for the previous questions. Can we deal with a very small train dataset or validation dataset by increasing the iterations?**\n",
        "\n",
        "Increasing the number of iterations (folds) in cross-validation can help when dealing with a very small training dataset or validation dataset to some extent, but it may not fully mitigate the limitations of small data sizes. Here's how increasing iterations can affect the situation:\n",
        "\n",
        "1. ***Smaller Validation Sets:***\n",
        "\n",
        " When you have a very small dataset, increasing the number of iterations can lead to smaller validation sets in each fold. While this can help utilize your limited data more effectively, it may also result in more variability in the performance estimates because each fold is based on a smaller subset of the data.\n",
        "\n",
        "2. ***Reduced Bias:*** With more iterations, you are likely to obtain performance estimates that are less biased because you're using more diverse subsets of the data for validation. This can provide a better sense of how well your model generalizes.\n",
        "\n",
        "3. ***Computational Cost:***\n",
        "\n",
        " Be mindful of the computational cost. Running a large number of iterations can become computationally expensive, especially if your training process is time-consuming.\n",
        "\n",
        "4. ***Sample Size Limitations:***\n",
        "\n",
        " While increasing iterations can improve the situation, it doesn't magically increase the effective sample size of your dataset. If your training dataset is extremely small, cross-validation might still provide unreliable estimates because each fold's training set is limited.\n",
        "\n",
        "5. ***Overfitting Risk:***\n",
        "\n",
        " If your training dataset is very small, increasing iterations can sometimes lead to overfitting on the training data because the model has more opportunities to fit the idiosyncrasies of the small dataset.\n",
        "\n",
        "In situations where your dataset is exceptionally small, you might consider alternative approaches, such as:\n",
        "\n",
        " **Data Augmentation:**\n",
        "\n",
        "  If applicable, you can artificially increase the effective size of your training dataset by applying data augmentation techniques.\n",
        "\n",
        " **Transfer Learning:**\n",
        "\n",
        " Leveraging pre-trained models and fine-tuning them on your small dataset can be an effective strategy.\n",
        "\n",
        " **Regularization:**\n",
        "\n",
        "  Use stronger regularization techniques to prevent overfitting when dealing with small datasets.\n",
        "\n",
        " **Ensemble Methods:**\n",
        "\n",
        " Combining the predictions of multiple models trained on different random splits of the small dataset can sometimes improve performance.\n",
        "\n",
        "Ultimately, while increasing the number of iterations in cross-validation can help to some extent, it's essential to consider the limitations of a small dataset and explore various strategies to address those limitations beyond just adjusting the number of iterations."
      ],
      "metadata": {
        "id": "Wrg-EqQDq6cb"
      }
    }
  ]
}